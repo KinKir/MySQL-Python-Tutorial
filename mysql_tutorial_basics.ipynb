{
 "cells": [
  {
   "cell_type": "code",
   "execution_count": 1,
   "metadata": {},
   "outputs": [],
   "source": [
    "import mysql.connector as m"
   ]
  },
  {
   "cell_type": "code",
   "execution_count": 2,
   "metadata": {},
   "outputs": [],
   "source": [
    "mydb = m.connect(host='localhost',user='root',passwd='qwerty',database='bank_database')"
   ]
  },
  {
   "cell_type": "code",
   "execution_count": null,
   "metadata": {},
   "outputs": [],
   "source": [
    "mycursor = mydb.cursor()"
   ]
  },
  {
   "cell_type": "code",
   "execution_count": null,
   "metadata": {},
   "outputs": [],
   "source": [
    "name = ['JACK','KATE','CLAIRE','JACK','MIKE']\n",
    "major = ['BIO','SOCIO','CHEM','BIO','CS']\n",
    "mycursor = mydb.cursor()\n",
    "mycursor.execute(\"CREATE TABLE student(student_id INT AUTO_INCREMENT, name VARCHAR(20), major VARCHAR(20), PRIMARY KEY(student_id))\")\n",
    "for i in range(len(name)):\n",
    "    x = (\"INSERT INTO student(name,major) VALUES('{}','{}')\".format(name[i],major[i]))\n",
    "    mycursor.execute(x)\n",
    "mycursor.execute('SELECT * FROM student1')\n",
    "myresult = mycursor.fetchall()\n",
    "for i in myresult:\n",
    "    print(i)"
   ]
  },
  {
   "cell_type": "code",
   "execution_count": null,
   "metadata": {},
   "outputs": [],
   "source": [
    "mydb.commit()"
   ]
  },
  {
   "cell_type": "code",
   "execution_count": null,
   "metadata": {},
   "outputs": [],
   "source": [
    "mycursor.execute(\"INSERT INTO student VALUES(6,'SAYALI','ENTC')\")\n",
    "mycursor.execute('SELECT * FROM student')\n",
    "myresult = mycursor.fetchall()"
   ]
  },
  {
   "cell_type": "code",
   "execution_count": null,
   "metadata": {},
   "outputs": [],
   "source": [
    "mycursor.execute(\"UPDATE student SET major= 'BIO' WHERE major='Bio'\")\n",
    "mycursor.execute('SELECT * FROM student')\n",
    "myresult = mycursor.fetchall()\n",
    "for items in myresult:\n",
    "    print(items)"
   ]
  },
  {
   "cell_type": "code",
   "execution_count": null,
   "metadata": {},
   "outputs": [],
   "source": [
    "mycursor.execute(\"UPDATE student SET major= 'CS' WHERE major='COMP.SCIENT'\")\n",
    "mycursor.execute('SELECT * FROM student')\n",
    "myresult = mycursor.fetchall()\n",
    "for items in myresult:\n",
    "    print(items)"
   ]
  },
  {
   "cell_type": "code",
   "execution_count": null,
   "metadata": {},
   "outputs": [],
   "source": [
    "mycursor.execute(\"UPDATE student SET major= 'CS' WHERE student_id=4\")\n",
    "mycursor.execute('SELECT * FROM student')\n",
    "myresult = mycursor.fetchall()\n",
    "for items in myresult:\n",
    "    print(items)"
   ]
  },
  {
   "cell_type": "code",
   "execution_count": null,
   "metadata": {},
   "outputs": [],
   "source": [
    "mycursor.execute(\"UPDATE student SET major= 'ECIT' WHERE major='CS' OR major= 'ENTC'\")\n",
    "mycursor.execute('SELECT * FROM student')\n",
    "myresult = mycursor.fetchall()\n",
    "for items in myresult:\n",
    "    print(items)"
   ]
  },
  {
   "cell_type": "code",
   "execution_count": null,
   "metadata": {},
   "outputs": [],
   "source": [
    "mycursor.execute(\"UPDATE student SET name='TOM',major='UNDECIDED' WHERE student_id=6\")\n",
    "mycursor.execute('SELECT * FROM student')\n",
    "myresult = mycursor.fetchall()\n",
    "for items in myresult:\n",
    "    print(items)"
   ]
  },
  {
   "cell_type": "code",
   "execution_count": null,
   "metadata": {},
   "outputs": [],
   "source": [
    "mycursor.execute(\"UPDATE student SET major='UNDECIDED' \")\n",
    "mycursor.execute('SELECT * FROM student')\n",
    "myresult = mycursor.fetchall()\n",
    "for items in myresult:\n",
    "    print(items)"
   ]
  },
  {
   "cell_type": "code",
   "execution_count": null,
   "metadata": {},
   "outputs": [],
   "source": [
    "mycursor.execute(\"DELETE FROM student WHERE student_id=6\")\n",
    "mycursor.execute('SELECT * FROM student')\n",
    "myresult = mycursor.fetchall()\n",
    "for items in myresult:\n",
    "    print(items)"
   ]
  },
  {
   "cell_type": "code",
   "execution_count": null,
   "metadata": {},
   "outputs": [],
   "source": [
    "mycursor.execute(\"DELETE FROM student WHERE name='JACK' AND major='UNDECIDED'\")\n",
    "mycursor.execute('SELECT * FROM student')\n",
    "myresult = mycursor.fetchall()\n",
    "for items in myresult:\n",
    "    print(items)"
   ]
  },
  {
   "cell_type": "code",
   "execution_count": null,
   "metadata": {},
   "outputs": [],
   "source": [
    "mycursor.execute(\"DELETE FROM student\")\n",
    "mycursor.execute('SELECT * FROM student')\n",
    "myresult = mycursor.fetchall()\n",
    "for items in myresult:\n",
    "    print(items)"
   ]
  },
  {
   "cell_type": "code",
   "execution_count": null,
   "metadata": {},
   "outputs": [],
   "source": [
    "name = ['JACK','KATE','CLAIRE','JACK','MIKE']\n",
    "major = ['BIO','SOCIO','CHEM','BIO','CS']\n",
    "mycursor = mydb.cursor()\n",
    "mycursor.execute(\"CREATE TABLE student2(student_id INT AUTO_INCREMENT, name VARCHAR(20), major VARCHAR(20), PRIMARY KEY(student_id))\")"
   ]
  },
  {
   "cell_type": "code",
   "execution_count": null,
   "metadata": {},
   "outputs": [],
   "source": [
    "for i in range(len(name)):\n",
    "    x = (\"INSERT INTO student1(name,major) VALUES('{}','{}')\".format(name[i],major[i]))\n",
    "    mycursor.execute(x)\n",
    "mycursor.execute('SELECT * FROM student1')\n",
    "myresult = mycursor.fetchall()\n",
    "for i in myresult:\n",
    "    print(i)\n",
    "mydb.commit()"
   ]
  },
  {
   "cell_type": "code",
   "execution_count": null,
   "metadata": {},
   "outputs": [],
   "source": [
    "mycursor.execute('SELECT name,major FROM student1')\n",
    "myresult = mycursor.fetchall()\n",
    "for i in myresult:\n",
    "    print(i)"
   ]
  },
  {
   "cell_type": "code",
   "execution_count": null,
   "metadata": {},
   "outputs": [],
   "source": [
    "mycursor.execute('SELECT name FROM student1')\n",
    "myresult = mycursor.fetchall()\n",
    "for i in myresult:\n",
    "    print(i)"
   ]
  },
  {
   "cell_type": "code",
   "execution_count": null,
   "metadata": {},
   "outputs": [],
   "source": [
    "mycursor.execute('SELECT student1.name,student1.major FROM student1 ORDER BY name')\n",
    "myresult = mycursor.fetchall()\n",
    "for i in myresult:\n",
    "    print(i)"
   ]
  },
  {
   "cell_type": "code",
   "execution_count": null,
   "metadata": {},
   "outputs": [],
   "source": [
    "mycursor.execute('SELECT student1.name,student1.major FROM student1 ORDER BY name DESC')\n",
    "myresult = mycursor.fetchall()\n",
    "for i in myresult:\n",
    "    print(i)"
   ]
  },
  {
   "cell_type": "code",
   "execution_count": null,
   "metadata": {},
   "outputs": [],
   "source": [
    "mycursor.execute('SELECT student1.name,student1.major FROM student1 ORDER BY student_id DESC')\n",
    "myresult = mycursor.fetchall()\n",
    "for i in myresult:\n",
    "    print(i)"
   ]
  },
  {
   "cell_type": "code",
   "execution_count": null,
   "metadata": {},
   "outputs": [],
   "source": [
    "mycursor.execute('SELECT student1.name,student1.major FROM student1 ORDER BY student_id ASC')\n",
    "myresult = mycursor.fetchall()\n",
    "for i in myresult:\n",
    "    print(i)"
   ]
  },
  {
   "cell_type": "code",
   "execution_count": null,
   "metadata": {},
   "outputs": [],
   "source": [
    "mycursor.execute('SELECT * FROM student1 ORDER BY major,student_id ASC')\n",
    "myresult = mycursor.fetchall()\n",
    "for i in myresult:\n",
    "    print(i)"
   ]
  },
  {
   "cell_type": "code",
   "execution_count": null,
   "metadata": {},
   "outputs": [],
   "source": [
    "mycursor.execute('SELECT * FROM student1 LIMIT 4')\n",
    "myresult = mycursor.fetchall()\n",
    "for i in myresult:\n",
    "    print(i)"
   ]
  },
  {
   "cell_type": "code",
   "execution_count": null,
   "metadata": {},
   "outputs": [],
   "source": [
    "mycursor.execute('SELECT * FROM student1 ORDER BY student_id ASC LIMIT 4')\n",
    "myresult = mycursor.fetchall()\n",
    "for i in myresult:\n",
    "    print(i)"
   ]
  },
  {
   "cell_type": "code",
   "execution_count": null,
   "metadata": {},
   "outputs": [],
   "source": [
    "# FILTER\n",
    "mycursor.execute(\"SELECT * FROM student1 WHERE major = 'BIO' OR major = 'CS'\")\n",
    "myresult = mycursor.fetchall()\n",
    "for i in myresult:\n",
    "    print(i)"
   ]
  },
  {
   "cell_type": "code",
   "execution_count": null,
   "metadata": {},
   "outputs": [],
   "source": [
    "''' -- for comments, \n",
    "Comparision operators are as follows:\n",
    "\n",
    "    < less than,\n",
    "    > greater than,\n",
    "    <= less equal,\n",
    "    >= greater than equal,\n",
    "    <> not equal'''"
   ]
  },
  {
   "cell_type": "code",
   "execution_count": null,
   "metadata": {},
   "outputs": [],
   "source": [
    "mycursor.execute(\"SELECT * FROM student1 WHERE student_id<=6 AND major <> 'BIO'\")\n",
    "myresult = mycursor.fetchall()\n",
    "for i in myresult:\n",
    "    print(i)"
   ]
  },
  {
   "cell_type": "code",
   "execution_count": null,
   "metadata": {},
   "outputs": [],
   "source": [
    "mycursor.execute(\"SELECT * FROM student1 WHERE name IN ('KATE','MIKE','JACK')\")\n",
    "myresult = mycursor.fetchall()\n",
    "for i in myresult:\n",
    "    print(i)"
   ]
  },
  {
   "cell_type": "code",
   "execution_count": null,
   "metadata": {},
   "outputs": [],
   "source": []
  }
 ],
 "metadata": {
  "kernelspec": {
   "display_name": "Python 3",
   "language": "python",
   "name": "python3"
  },
  "language_info": {
   "codemirror_mode": {
    "name": "ipython",
    "version": 3
   },
   "file_extension": ".py",
   "mimetype": "text/x-python",
   "name": "python",
   "nbconvert_exporter": "python",
   "pygments_lexer": "ipython3",
   "version": "3.7.3"
  }
 },
 "nbformat": 4,
 "nbformat_minor": 2
}
