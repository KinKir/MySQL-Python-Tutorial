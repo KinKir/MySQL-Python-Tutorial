{
 "cells": [
  {
   "cell_type": "code",
   "execution_count": 6,
   "metadata": {},
   "outputs": [],
   "source": [
    "import mysql.connector as m\n",
    "mydb = m.connect(host='localhost',user='root',passwd='******',database='bank_database')"
   ]
  },
  {
   "cell_type": "code",
   "execution_count": 9,
   "metadata": {},
   "outputs": [
    {
     "name": "stdout",
     "output_type": "stream",
     "text": [
      "(100, 'DAVID', 'WALLACE', datetime.date(1967, 11, 7), 'M', 250000, None, 1)\n",
      "(101, 'Jan', 'Levinson', datetime.date(1961, 5, 11), 'F', 110000, 100, 1)\n",
      "(102, 'Michael', 'Scott', datetime.date(1964, 3, 15), 'M', 75000, 100, 2)\n",
      "(103, 'Angela', 'Martin', datetime.date(1971, 6, 25), 'F', 63000, 102, 2)\n",
      "(104, 'Kelly', 'Kapoor', datetime.date(1980, 2, 5), 'F', 55000, 102, 2)\n",
      "(105, 'Stanley', 'Hudson', datetime.date(1958, 2, 19), 'M', 69000, 100, 2)\n",
      "(106, 'Josh', 'Porter', datetime.date(1969, 9, 5), 'M', 78000, 100, 3)\n",
      "(107, 'Andy', 'Bernard', datetime.date(1973, 7, 22), 'M', 65000, 106, 3)\n",
      "(108, 'Jim', 'Halpart', datetime.date(1978, 10, 1), 'M', 71000, 106, 3)\n"
     ]
    }
   ],
   "source": [
    "mycursor = mydb.cursor()\n",
    "mycursor.execute(\"SELECT * FROM employee\")\n",
    "myresult = mycursor.fetchall()\n",
    "for i in myresult:\n",
    "    print(i)"
   ]
  },
  {
   "cell_type": "code",
   "execution_count": 10,
   "metadata": {},
   "outputs": [
    {
     "name": "stdout",
     "output_type": "stream",
     "text": [
      "(400, 'Dunmore Highschool', 2)\n",
      "(401, 'Lackawana Country', 2)\n",
      "(402, 'FedEx', 3)\n",
      "(403, 'John Daly Law, LLC', 3)\n",
      "(404, 'Scranton Whitepages', 2)\n",
      "(405, 'Times Newspaper', 3)\n",
      "(406, 'FedEx', 2)\n"
     ]
    }
   ],
   "source": [
    "mycursor = mydb.cursor()\n",
    "mycursor.execute(\"SELECT * FROM client\")\n",
    "myresult = mycursor.fetchall()\n",
    "for i in myresult:\n",
    "    print(i)"
   ]
  },
  {
   "cell_type": "code",
   "execution_count": 11,
   "metadata": {},
   "outputs": [
    {
     "name": "stdout",
     "output_type": "stream",
     "text": [
      "(104, 'Kelly', 'Kapoor', datetime.date(1980, 2, 5), 'F', 55000, 102, 2)\n",
      "(103, 'Angela', 'Martin', datetime.date(1971, 6, 25), 'F', 63000, 102, 2)\n",
      "(107, 'Andy', 'Bernard', datetime.date(1973, 7, 22), 'M', 65000, 106, 3)\n",
      "(105, 'Stanley', 'Hudson', datetime.date(1958, 2, 19), 'M', 69000, 100, 2)\n",
      "(108, 'Jim', 'Halpart', datetime.date(1978, 10, 1), 'M', 71000, 106, 3)\n",
      "(102, 'Michael', 'Scott', datetime.date(1964, 3, 15), 'M', 75000, 100, 2)\n",
      "(106, 'Josh', 'Porter', datetime.date(1969, 9, 5), 'M', 78000, 100, 3)\n",
      "(101, 'Jan', 'Levinson', datetime.date(1961, 5, 11), 'F', 110000, 100, 1)\n",
      "(100, 'DAVID', 'WALLACE', datetime.date(1967, 11, 7), 'M', 250000, None, 1)\n"
     ]
    }
   ],
   "source": [
    "mycursor = mydb.cursor()\n",
    "mycursor.execute(\"SELECT * FROM employee ORDER BY salary ASC\")\n",
    "myresult = mycursor.fetchall()\n",
    "for i in myresult:\n",
    "    print(i)"
   ]
  },
  {
   "cell_type": "code",
   "execution_count": 10,
   "metadata": {},
   "outputs": [],
   "source": [
    "mycursor.execute('SELECT * FROM branch')"
   ]
  },
  {
   "cell_type": "code",
   "execution_count": 12,
   "metadata": {},
   "outputs": [
    {
     "name": "stdout",
     "output_type": "stream",
     "text": [
      "(100, 'DAVID', 'WALLACE', datetime.date(1967, 11, 7), 'M', 250000, None, 1)\n",
      "(101, 'Jan', 'Levinson', datetime.date(1961, 5, 11), 'F', 110000, 100, 1)\n",
      "(106, 'Josh', 'Porter', datetime.date(1969, 9, 5), 'M', 78000, 100, 3)\n",
      "(102, 'Michael', 'Scott', datetime.date(1964, 3, 15), 'M', 75000, 100, 2)\n",
      "(108, 'Jim', 'Halpart', datetime.date(1978, 10, 1), 'M', 71000, 106, 3)\n",
      "(105, 'Stanley', 'Hudson', datetime.date(1958, 2, 19), 'M', 69000, 100, 2)\n",
      "(107, 'Andy', 'Bernard', datetime.date(1973, 7, 22), 'M', 65000, 106, 3)\n",
      "(103, 'Angela', 'Martin', datetime.date(1971, 6, 25), 'F', 63000, 102, 2)\n",
      "(104, 'Kelly', 'Kapoor', datetime.date(1980, 2, 5), 'F', 55000, 102, 2)\n"
     ]
    }
   ],
   "source": [
    "mycursor = mydb.cursor()\n",
    "mycursor.execute(\"SELECT * FROM employee ORDER BY salary DESC\")\n",
    "myresult = mycursor.fetchall()\n",
    "for i in myresult:\n",
    "    print(i)"
   ]
  },
  {
   "cell_type": "code",
   "execution_count": 15,
   "metadata": {},
   "outputs": [
    {
     "name": "stdout",
     "output_type": "stream",
     "text": [
      "(103, 'Angela', 'Martin', datetime.date(1971, 6, 25), 'F', 63000, 102, 2)\n",
      "(101, 'Jan', 'Levinson', datetime.date(1961, 5, 11), 'F', 110000, 100, 1)\n",
      "(104, 'Kelly', 'Kapoor', datetime.date(1980, 2, 5), 'F', 55000, 102, 2)\n",
      "(107, 'Andy', 'Bernard', datetime.date(1973, 7, 22), 'M', 65000, 106, 3)\n",
      "(100, 'DAVID', 'WALLACE', datetime.date(1967, 11, 7), 'M', 250000, None, 1)\n",
      "(108, 'Jim', 'Halpart', datetime.date(1978, 10, 1), 'M', 71000, 106, 3)\n",
      "(106, 'Josh', 'Porter', datetime.date(1969, 9, 5), 'M', 78000, 100, 3)\n",
      "(102, 'Michael', 'Scott', datetime.date(1964, 3, 15), 'M', 75000, 100, 2)\n",
      "(105, 'Stanley', 'Hudson', datetime.date(1958, 2, 19), 'M', 69000, 100, 2)\n"
     ]
    }
   ],
   "source": [
    "#Find all the employee ordered by sex then name\n",
    "mycursor = mydb.cursor()\n",
    "mycursor.execute(\"SELECT * FROM employee ORDER BY sex, first_name,last_name\")\n",
    "myresult = mycursor.fetchall()\n",
    "for i in myresult:\n",
    "    print(i)"
   ]
  },
  {
   "cell_type": "code",
   "execution_count": 17,
   "metadata": {},
   "outputs": [
    {
     "name": "stdout",
     "output_type": "stream",
     "text": [
      "(100, 'DAVID', 'WALLACE', datetime.date(1967, 11, 7), 'M', 250000, None, 1)\n",
      "(101, 'Jan', 'Levinson', datetime.date(1961, 5, 11), 'F', 110000, 100, 1)\n",
      "(102, 'Michael', 'Scott', datetime.date(1964, 3, 15), 'M', 75000, 100, 2)\n",
      "(103, 'Angela', 'Martin', datetime.date(1971, 6, 25), 'F', 63000, 102, 2)\n",
      "(104, 'Kelly', 'Kapoor', datetime.date(1980, 2, 5), 'F', 55000, 102, 2)\n"
     ]
    }
   ],
   "source": [
    "#Find the first 5 employee in the table\n",
    "mycursor = mydb.cursor()\n",
    "mycursor.execute(\"SELECT * FROM employee LIMIT 5\")\n",
    "myresult = mycursor.fetchall()\n",
    "for i in myresult:\n",
    "    print(i)"
   ]
  },
  {
   "cell_type": "code",
   "execution_count": 18,
   "metadata": {},
   "outputs": [
    {
     "name": "stdout",
     "output_type": "stream",
     "text": [
      "('DAVID', 'WALLACE')\n",
      "('Jan', 'Levinson')\n",
      "('Michael', 'Scott')\n",
      "('Angela', 'Martin')\n",
      "('Kelly', 'Kapoor')\n",
      "('Stanley', 'Hudson')\n",
      "('Josh', 'Porter')\n",
      "('Andy', 'Bernard')\n",
      "('Jim', 'Halpart')\n"
     ]
    }
   ],
   "source": [
    "#Find first and last names of all employee\n",
    "mycursor = mydb.cursor()\n",
    "mycursor.execute(\"SELECT first_name,last_name FROM employee\")\n",
    "myresult = mycursor.fetchall()\n",
    "for i in myresult:\n",
    "    print(i)"
   ]
  },
  {
   "cell_type": "code",
   "execution_count": 20,
   "metadata": {},
   "outputs": [
    {
     "name": "stdout",
     "output_type": "stream",
     "text": [
      "('M',)\n",
      "('F',)\n"
     ]
    }
   ],
   "source": [
    "# Find out all the diferent genders\n",
    "mycursor = mydb.cursor()\n",
    "mycursor.execute(\"SELECT DISTINCT sex FROM employee\")\n",
    "myresult = mycursor.fetchall()\n",
    "for i in myresult:\n",
    "    print(i)"
   ]
  },
  {
   "cell_type": "code",
   "execution_count": 21,
   "metadata": {},
   "outputs": [
    {
     "name": "stdout",
     "output_type": "stream",
     "text": [
      "(1,)\n",
      "(2,)\n",
      "(3,)\n"
     ]
    }
   ],
   "source": [
    "# Find out all the diferent branch_id\n",
    "mycursor = mydb.cursor()\n",
    "mycursor.execute(\"SELECT DISTINCT branch_id FROM employee\")\n",
    "myresult = mycursor.fetchall()\n",
    "for i in myresult:\n",
    "    print(i)"
   ]
  },
  {
   "cell_type": "markdown",
   "metadata": {},
   "source": [
    "## FUNCTIONS"
   ]
  },
  {
   "cell_type": "code",
   "execution_count": 22,
   "metadata": {},
   "outputs": [
    {
     "name": "stdout",
     "output_type": "stream",
     "text": [
      "(9,)\n"
     ]
    }
   ],
   "source": [
    "#Find the number of employee\n",
    "mycursor = mydb.cursor()\n",
    "mycursor.execute(\"SELECT COUNT(emp_id) FROM employee\")\n",
    "myresult = mycursor.fetchall()\n",
    "for i in myresult:\n",
    "    print(i)"
   ]
  },
  {
   "cell_type": "code",
   "execution_count": 24,
   "metadata": {},
   "outputs": [
    {
     "name": "stdout",
     "output_type": "stream",
     "text": [
      "(8,)\n"
     ]
    }
   ],
   "source": [
    "#Find the number of supervisor\n",
    "mycursor = mydb.cursor()\n",
    "mycursor.execute(\"SELECT COUNT(super_id) FROM employee\")\n",
    "myresult = mycursor.fetchall()\n",
    "for i in myresult:\n",
    "    print(i)"
   ]
  },
  {
   "cell_type": "code",
   "execution_count": 29,
   "metadata": {},
   "outputs": [
    {
     "name": "stdout",
     "output_type": "stream",
     "text": [
      "(2,)\n"
     ]
    }
   ],
   "source": [
    "#Find the number of female employees born after 1970\n",
    "mycursor = mydb.cursor()\n",
    "mycursor.execute(\"SELECT COUNT(birth_day) FROM employee WHERE sex = 'F'AND birth_day > '1970-01-01'\")\n",
    "myresult = mycursor.fetchall()\n",
    "for i in myresult:\n",
    "    print(i)"
   ]
  },
  {
   "cell_type": "code",
   "execution_count": 30,
   "metadata": {},
   "outputs": [
    {
     "name": "stdout",
     "output_type": "stream",
     "text": [
      "(Decimal('92888.8889'),)\n"
     ]
    }
   ],
   "source": [
    "#Find the average of all employee's salaries\n",
    "mycursor = mydb.cursor()\n",
    "mycursor.execute(\"SELECT AVG(salary) FROM employee\")\n",
    "myresult = mycursor.fetchall()\n",
    "for i in myresult:\n",
    "    print(i)"
   ]
  },
  {
   "cell_type": "code",
   "execution_count": 31,
   "metadata": {},
   "outputs": [
    {
     "name": "stdout",
     "output_type": "stream",
     "text": [
      "(Decimal('101333.3333'),)\n"
     ]
    }
   ],
   "source": [
    "#Find the average of all male employee's salaries \n",
    "mycursor = mydb.cursor()\n",
    "mycursor.execute(\"SELECT AVG(salary) FROM employee WHERE sex='M'\")\n",
    "myresult = mycursor.fetchall()\n",
    "for i in myresult:\n",
    "    print(i)"
   ]
  },
  {
   "cell_type": "code",
   "execution_count": 33,
   "metadata": {},
   "outputs": [
    {
     "name": "stdout",
     "output_type": "stream",
     "text": [
      "(Decimal('836000'),)\n"
     ]
    }
   ],
   "source": [
    "#Find the sum of all employee's salaries\n",
    "mycursor.execute(\"SELECT SUM(salary) FROM employee\")\n",
    "myresult = mycursor.fetchall()\n",
    "for i in myresult:\n",
    "    print(i)"
   ]
  },
  {
   "cell_type": "code",
   "execution_count": 34,
   "metadata": {},
   "outputs": [
    {
     "name": "stdout",
     "output_type": "stream",
     "text": [
      "(3, 'F')\n",
      "(6, 'M')\n"
     ]
    }
   ],
   "source": [
    "#Find out how many males and females there are \n",
    "mycursor.execute(\"SELECT COUNT(sex), sex FROM employee GROUP BY sex\")\n",
    "myresult = mycursor.fetchall()\n",
    "for i in myresult:\n",
    "    print(i)"
   ]
  },
  {
   "cell_type": "code",
   "execution_count": 35,
   "metadata": {},
   "outputs": [
    {
     "name": "stdout",
     "output_type": "stream",
     "text": [
      "(Decimal('282000'), 102)\n",
      "(Decimal('218000'), 105)\n",
      "(Decimal('31000'), 107)\n",
      "(Decimal('34500'), 108)\n"
     ]
    }
   ],
   "source": [
    "#Find the total sales of each salesman\n",
    "mycursor.execute(\"SELECT SUM(total_sales),emp_id FROM work_with GROUP BY emp_id\")\n",
    "myresult = mycursor.fetchall()\n",
    "for i in myresult:\n",
    "    print(i)"
   ]
  },
  {
   "cell_type": "markdown",
   "metadata": {},
   "source": [
    "## WILDCARDS2"
   ]
  },
  {
   "cell_type": "code",
   "execution_count": null,
   "metadata": {},
   "outputs": [],
   "source": [
    "#  % = any # characters, _ = one character\n",
    "# Find any client's who are LLC\n",
    "mycursor.execute(\"SELECT * FROM client WHERE client_name LIKE '%LLC'\")"
   ]
  },
  {
   "cell_type": "code",
   "execution_count": 39,
   "metadata": {},
   "outputs": [
    {
     "name": "stdout",
     "output_type": "stream",
     "text": [
      "(403, 'John Daly Law, LLC', 3)\n"
     ]
    }
   ],
   "source": [
    "myresult=mycursor.fetchall()\n",
    "for i in myresult:\n",
    "    print(i)"
   ]
  },
  {
   "cell_type": "code",
   "execution_count": 40,
   "metadata": {},
   "outputs": [
    {
     "name": "stdout",
     "output_type": "stream",
     "text": [
      "(2, 'J.T. Forms & Labels', 'Custom Forms')\n"
     ]
    }
   ],
   "source": [
    "# Find any branch suppliers who are in the label business\n",
    "mycursor.execute(\"SELECT * FROM branch_supplier WHERE supplier_name LIKE '%label%'\")\n",
    "myresult=mycursor.fetchall()\n",
    "for i in myresult:\n",
    "    print(i)"
   ]
  },
  {
   "cell_type": "code",
   "execution_count": 46,
   "metadata": {},
   "outputs": [
    {
     "name": "stdout",
     "output_type": "stream",
     "text": [
      "(108, 'Jim', 'Halpart', datetime.date(1978, 10, 1), 'M', 71000, 106, 3)\n"
     ]
    }
   ],
   "source": [
    "#Find all the employee born in october\n",
    "mycursor.execute(\"SELECT * FROM employee WHERE birth_day LIKE '____-10%'\")\n",
    "myresult=mycursor.fetchall()\n",
    "for i in myresult:\n",
    "    print(i)"
   ]
  },
  {
   "cell_type": "code",
   "execution_count": 47,
   "metadata": {},
   "outputs": [
    {
     "name": "stdout",
     "output_type": "stream",
     "text": [
      "(104, 'Kelly', 'Kapoor', datetime.date(1980, 2, 5), 'F', 55000, 102, 2)\n",
      "(105, 'Stanley', 'Hudson', datetime.date(1958, 2, 19), 'M', 69000, 100, 2)\n"
     ]
    }
   ],
   "source": [
    "#Find all the employee born in FEB\n",
    "mycursor.execute(\"SELECT * FROM employee WHERE birth_day LIKE '____-02%'\")\n",
    "myresult=mycursor.fetchall()\n",
    "for i in myresult:\n",
    "    print(i)"
   ]
  },
  {
   "cell_type": "code",
   "execution_count": 48,
   "metadata": {},
   "outputs": [
    {
     "name": "stdout",
     "output_type": "stream",
     "text": [
      "(400, 'Dunmore Highschool', 2)\n"
     ]
    }
   ],
   "source": [
    "# Find any clients who are schools\n",
    "mycursor.execute(\"SELECT * FROM client WHERE client_name LIKE '%school%'\")\n",
    "myresult=mycursor.fetchall()\n",
    "for i in myresult:\n",
    "    print(i)"
   ]
  },
  {
   "cell_type": "markdown",
   "metadata": {},
   "source": [
    "## UNIONS"
   ]
  },
  {
   "cell_type": "code",
   "execution_count": 49,
   "metadata": {},
   "outputs": [
    {
     "name": "stdout",
     "output_type": "stream",
     "text": [
      "('DAVID',)\n",
      "('Jan',)\n",
      "('Michael',)\n",
      "('Angela',)\n",
      "('Kelly',)\n",
      "('Stanley',)\n",
      "('Josh',)\n",
      "('Andy',)\n",
      "('Jim',)\n",
      "('Corporate',)\n",
      "('Scranton',)\n",
      "('Stamford',)\n"
     ]
    }
   ],
   "source": [
    "# FInd a list of employee and branch names\n",
    "mycursor.execute(\"SELECT first_name FROM employee UNION SELECT branch_name FROM branch\")\n",
    "myresult=mycursor.fetchall()\n",
    "for i in myresult:\n",
    "    print(i)"
   ]
  },
  {
   "cell_type": "markdown",
   "metadata": {},
   "source": [
    " For Union we need to have\n",
    " \n",
    "    same number of column\n",
    "    same datatype "
   ]
  },
  {
   "cell_type": "code",
   "execution_count": 50,
   "metadata": {},
   "outputs": [
    {
     "name": "stdout",
     "output_type": "stream",
     "text": [
      "('Dunmore Highschool',)\n",
      "('Lackawana Country',)\n",
      "('FedEx',)\n",
      "('John Daly Law, LLC',)\n",
      "('Scranton Whitepages',)\n",
      "('Times Newspaper',)\n",
      "('Hammer Mill',)\n",
      "('J.T. Forms & Labels',)\n",
      "('Uni Ball',)\n",
      "('Patriot Paper',)\n",
      "('Stamford Lables',)\n"
     ]
    }
   ],
   "source": [
    "# Find a list of all clients and branch supplier's name\n",
    "mycursor.execute(\"SELECT client_name FROM client UNION SELECT supplier_name FROM branch_supplier\")\n",
    "myresult = mycursor.fetchall()\n",
    "for i in myresult:\n",
    "    print(i)"
   ]
  },
  {
   "cell_type": "code",
   "execution_count": 52,
   "metadata": {},
   "outputs": [
    {
     "name": "stdout",
     "output_type": "stream",
     "text": [
      "('Dunmore Highschool', 2)\n",
      "('Lackawana Country', 2)\n",
      "('FedEx', 3)\n",
      "('John Daly Law, LLC', 3)\n",
      "('Scranton Whitepages', 2)\n",
      "('Times Newspaper', 3)\n",
      "('FedEx', 2)\n",
      "('Hammer Mill', 2)\n",
      "('J.T. Forms & Labels', 2)\n",
      "('Uni Ball', 2)\n",
      "('Hammer Mill', 3)\n",
      "('Patriot Paper', 3)\n",
      "('Stamford Lables', 3)\n",
      "('Uni Ball', 3)\n"
     ]
    }
   ],
   "source": [
    "# Find a list of all clients and branch supplier's name with ID'S\n",
    "mycursor.execute(\"SELECT client.client_name,client.branch_id FROM client UNION SELECT branch_supplier.supplier_name, branch_supplier.branch_id FROM branch_supplier\")\n",
    "myresult = mycursor.fetchall()\n",
    "for i in myresult:\n",
    "    print(i) "
   ]
  },
  {
   "cell_type": "code",
   "execution_count": 53,
   "metadata": {},
   "outputs": [
    {
     "name": "stdout",
     "output_type": "stream",
     "text": [
      "(100, 250000)\n",
      "(101, 110000)\n",
      "(102, 75000)\n",
      "(103, 63000)\n",
      "(104, 55000)\n",
      "(105, 69000)\n",
      "(106, 78000)\n",
      "(107, 65000)\n",
      "(108, 71000)\n",
      "(102, 267000)\n",
      "(102, 15000)\n",
      "(105, 55000)\n",
      "(105, 33000)\n",
      "(105, 130000)\n",
      "(107, 5000)\n",
      "(107, 26000)\n",
      "(108, 22500)\n",
      "(108, 12000)\n"
     ]
    }
   ],
   "source": [
    "#Find money spend or earned by the company\n",
    "mycursor.execute(\"SELECT employee.emp_id, employee.salary FROM employee UNION SELECT work_with.emp_id, work_with.total_sales FROM work_with\")\n",
    "myresult = mycursor.fetchall()\n",
    "for i in myresult:\n",
    "    print(i)"
   ]
  },
  {
   "cell_type": "markdown",
   "metadata": {},
   "source": [
    "## JOIN"
   ]
  },
  {
   "cell_type": "code",
   "execution_count": null,
   "metadata": {},
   "outputs": [],
   "source": [
    "mycursor.execute(\"INSERT INTO branch VALUES(4,'Buffalo',NULL,NULL)\")\n",
    "mydb.commit()"
   ]
  },
  {
   "cell_type": "code",
   "execution_count": 55,
   "metadata": {},
   "outputs": [
    {
     "name": "stdout",
     "output_type": "stream",
     "text": [
      "(1, 'Corporate', 100, datetime.date(2006, 2, 9))\n",
      "(2, 'Scranton', 102, datetime.date(1992, 4, 6))\n",
      "(3, 'Stamford', 106, datetime.date(1998, 2, 13))\n",
      "(4, 'Buffalo', None, None)\n"
     ]
    }
   ],
   "source": [
    "mycursor.execute(\"SELECT * FROM branch\")\n",
    "myresult = mycursor.fetchall()\n",
    "for i in myresult:\n",
    "    print(i)"
   ]
  },
  {
   "cell_type": "code",
   "execution_count": 58,
   "metadata": {},
   "outputs": [
    {
     "name": "stdout",
     "output_type": "stream",
     "text": [
      "(100, 'DAVID', 'WALLACE', 'Corporate')\n",
      "(102, 'Michael', 'Scott', 'Scranton')\n",
      "(106, 'Josh', 'Porter', 'Stamford')\n"
     ]
    }
   ],
   "source": [
    "# Find all branches and the names of branch manager\n",
    "mycursor.execute(\"SELECT employee.emp_id,employee.first_name,employee.last_name, branch.branch_name FROM employee JOIN branch ON employee.emp_id=branch.mgr_id\")\n",
    "myresult = mycursor.fetchall()\n",
    "for i in myresult:\n",
    "    print(i)"
   ]
  },
  {
   "cell_type": "code",
   "execution_count": 59,
   "metadata": {},
   "outputs": [
    {
     "name": "stdout",
     "output_type": "stream",
     "text": [
      "(100, 'DAVID', 'WALLACE', 'Corporate')\n",
      "(102, 'Michael', 'Scott', 'Scranton')\n",
      "(106, 'Josh', 'Porter', 'Stamford')\n",
      "(101, 'Jan', 'Levinson', None)\n",
      "(103, 'Angela', 'Martin', None)\n",
      "(104, 'Kelly', 'Kapoor', None)\n",
      "(105, 'Stanley', 'Hudson', None)\n",
      "(107, 'Andy', 'Bernard', None)\n",
      "(108, 'Jim', 'Halpart', None)\n"
     ]
    }
   ],
   "source": [
    "# Find all branches and the names of branch manager\n",
    "mycursor.execute(\"SELECT employee.emp_id,employee.first_name,employee.last_name, branch.branch_name FROM employee LEFT JOIN branch ON employee.emp_id=branch.mgr_id\")\n",
    "myresult = mycursor.fetchall()\n",
    "for i in myresult:\n",
    "    print(i)"
   ]
  },
  {
   "cell_type": "code",
   "execution_count": 60,
   "metadata": {},
   "outputs": [
    {
     "name": "stdout",
     "output_type": "stream",
     "text": [
      "(100, 'DAVID', 'WALLACE', 'Corporate')\n",
      "(102, 'Michael', 'Scott', 'Scranton')\n",
      "(106, 'Josh', 'Porter', 'Stamford')\n",
      "(None, None, None, 'Buffalo')\n"
     ]
    }
   ],
   "source": [
    "# Find all branches and the names of branch manager\n",
    "mycursor.execute(\"SELECT employee.emp_id,employee.first_name,employee.last_name, branch.branch_name FROM employee RIGHT JOIN branch ON employee.emp_id=branch.mgr_id\")\n",
    "myresult = mycursor.fetchall()\n",
    "for i in myresult:\n",
    "    print(i)"
   ]
  },
  {
   "cell_type": "markdown",
   "metadata": {},
   "source": [
    "## NESTED QUERIES"
   ]
  },
  {
   "cell_type": "code",
   "execution_count": 61,
   "metadata": {},
   "outputs": [],
   "source": [
    "#Find names of all employees who have sold over 30000 to a single client"
   ]
  },
  {
   "cell_type": "code",
   "execution_count": 67,
   "metadata": {},
   "outputs": [
    {
     "name": "stdout",
     "output_type": "stream",
     "text": [
      "('Michael', 'Scott')\n",
      "('Stanley', 'Hudson')\n"
     ]
    }
   ],
   "source": [
    "mycursor.execute('''SELECT employee.first_name, employee.last_name\n",
    "                    FROM employee\n",
    "                    WHERE employee.emp_id IN (\n",
    "                    SELECT work_with.emp_id \n",
    "                    FROM work_with\n",
    "                    WHERE work_with.total_sales > 30000)''')\n",
    "myresult = mycursor.fetchall()\n",
    "for i in myresult:\n",
    "    print(i)"
   ]
  },
  {
   "cell_type": "code",
   "execution_count": 70,
   "metadata": {},
   "outputs": [
    {
     "name": "stdout",
     "output_type": "stream",
     "text": [
      "('Angela', 'Martin')\n",
      "('Kelly', 'Kapoor')\n"
     ]
    }
   ],
   "source": [
    "# Find all the clients who are handled by the branch manager Michael Scott assuming you kno ID of Michael\n",
    "\n",
    "mycursor.execute('''SELECT employee.first_name,employee.last_name\n",
    "                    FROM employee \n",
    "                    WHERE employee.emp_id IN (\n",
    "                    SELECT employee.emp_id FROM employee WHERE employee.super_id = 102)''')\n",
    "myresult = mycursor.fetchall()\n",
    "for i in myresult:\n",
    "    print(i)"
   ]
  },
  {
   "cell_type": "code",
   "execution_count": null,
   "metadata": {},
   "outputs": [],
   "source": []
  }
 ],
 "metadata": {
  "kernelspec": {
   "display_name": "Python 3",
   "language": "python",
   "name": "python3"
  },
  "language_info": {
   "codemirror_mode": {
    "name": "ipython",
    "version": 3
   },
   "file_extension": ".py",
   "mimetype": "text/x-python",
   "name": "python",
   "nbconvert_exporter": "python",
   "pygments_lexer": "ipython3",
   "version": "3.7.3"
  }
 },
 "nbformat": 4,
 "nbformat_minor": 2
}
